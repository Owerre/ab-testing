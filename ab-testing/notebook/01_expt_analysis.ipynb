{
 "cells": [
  {
   "cell_type": "markdown",
   "id": "8d0031e3",
   "metadata": {},
   "source": [
    "# A/B Testing Statistical Analysis"
   ]
  },
  {
   "cell_type": "code",
   "execution_count": 1,
   "id": "ce24e9ca",
   "metadata": {},
   "outputs": [],
   "source": [
    "%matplotlib inline\n",
    "\n",
    "# Ignore deprecated warning\n",
    "import warnings\n",
    "\n",
    "warnings.filterwarnings(\"ignore\")\n",
    "import pandas as pd\n",
    "import numpy as np\n",
    "import matplotlib.pyplot as plt\n",
    "\n",
    "plt.rcParams.update({'font.size': 16})"
   ]
  },
  {
   "cell_type": "code",
   "execution_count": 2,
   "id": "351fdc69",
   "metadata": {},
   "outputs": [],
   "source": [
    "# Import custom class\n",
    "%run -i '../src/statistical_test.py'"
   ]
  },
  {
   "cell_type": "code",
   "execution_count": 3,
   "id": "7f443390",
   "metadata": {},
   "outputs": [],
   "source": [
    "# Instantiate the class\n",
    "stat_test = StatisticalTest()"
   ]
  },
  {
   "cell_type": "markdown",
   "id": "2ecebdf2",
   "metadata": {},
   "source": [
    "# Section 1. Data Exploration"
   ]
  },
  {
   "cell_type": "markdown",
   "id": "f1555b9a",
   "metadata": {},
   "source": [
    "## 1.1. Load data\n",
    "Here, I load the csv file as a pandas dataframe and check the size of the data"
   ]
  },
  {
   "cell_type": "code",
   "execution_count": 4,
   "id": "23cd5eb8",
   "metadata": {},
   "outputs": [
    {
     "name": "stdout",
     "output_type": "stream",
     "text": [
      "Data size = (11388, 3)\n"
     ]
    },
    {
     "data": {
      "text/html": [
       "<div>\n",
       "<style scoped>\n",
       "    .dataframe tbody tr th:only-of-type {\n",
       "        vertical-align: middle;\n",
       "    }\n",
       "\n",
       "    .dataframe tbody tr th {\n",
       "        vertical-align: top;\n",
       "    }\n",
       "\n",
       "    .dataframe thead th {\n",
       "        text-align: right;\n",
       "    }\n",
       "</style>\n",
       "<table border=\"1\" class=\"dataframe\">\n",
       "  <thead>\n",
       "    <tr style=\"text-align: right;\">\n",
       "      <th></th>\n",
       "      <th>group</th>\n",
       "      <th>phone_os_ty</th>\n",
       "      <th>revenue</th>\n",
       "    </tr>\n",
       "  </thead>\n",
       "  <tbody>\n",
       "    <tr>\n",
       "      <th>0</th>\n",
       "      <td>Control</td>\n",
       "      <td>iOS</td>\n",
       "      <td>70.00</td>\n",
       "    </tr>\n",
       "    <tr>\n",
       "      <th>1</th>\n",
       "      <td>Treatment</td>\n",
       "      <td>iOS</td>\n",
       "      <td>16.15</td>\n",
       "    </tr>\n",
       "    <tr>\n",
       "      <th>2</th>\n",
       "      <td>Control</td>\n",
       "      <td>Android</td>\n",
       "      <td>799.11</td>\n",
       "    </tr>\n",
       "    <tr>\n",
       "      <th>3</th>\n",
       "      <td>Treatment</td>\n",
       "      <td>iOS</td>\n",
       "      <td>2140.01</td>\n",
       "    </tr>\n",
       "    <tr>\n",
       "      <th>4</th>\n",
       "      <td>Control</td>\n",
       "      <td>iOS</td>\n",
       "      <td>163.26</td>\n",
       "    </tr>\n",
       "  </tbody>\n",
       "</table>\n",
       "</div>"
      ],
      "text/plain": [
       "       group phone_os_ty  revenue\n",
       "0    Control         iOS    70.00\n",
       "1  Treatment         iOS    16.15\n",
       "2    Control     Android   799.11\n",
       "3  Treatment         iOS  2140.01\n",
       "4    Control         iOS   163.26"
      ]
     },
     "execution_count": 4,
     "metadata": {},
     "output_type": "execute_result"
    }
   ],
   "source": [
    "df = pd.read_csv('../data/rev_data.csv')\n",
    "print('Data size = {}'.format(df.shape))\n",
    "df.head()"
   ]
  },
  {
   "cell_type": "markdown",
   "id": "73e6331c",
   "metadata": {},
   "source": [
    "## 1.2. Data types\n",
    "The data type for each column is displayed below"
   ]
  },
  {
   "cell_type": "code",
   "execution_count": 5,
   "id": "97498c67",
   "metadata": {},
   "outputs": [
    {
     "name": "stdout",
     "output_type": "stream",
     "text": [
      "<class 'pandas.core.frame.DataFrame'>\n",
      "RangeIndex: 11388 entries, 0 to 11387\n",
      "Data columns (total 3 columns):\n",
      " #   Column       Non-Null Count  Dtype  \n",
      "---  ------       --------------  -----  \n",
      " 0   group        11388 non-null  object \n",
      " 1   phone_os_ty  11388 non-null  object \n",
      " 2   revenue      11388 non-null  float64\n",
      "dtypes: float64(1), object(2)\n",
      "memory usage: 267.0+ KB\n"
     ]
    }
   ],
   "source": [
    "df.info()"
   ]
  },
  {
   "cell_type": "markdown",
   "id": "3a96ad66",
   "metadata": {},
   "source": [
    "## 1.3. Data exploration by treatment\n",
    "The distribution of revenue is highly right skewed as expected, since some customers spent more than others. Therefore, I have transformed it by log base 10. The mean of revenue (i.e., revenue-per-user) in the treatment group is higher than the control group. I need to establish if the difference is statistically significant. "
   ]
  },
  {
   "cell_type": "code",
   "execution_count": 6,
   "id": "2f11cc23",
   "metadata": {},
   "outputs": [
    {
     "data": {
      "text/html": [
       "<div>\n",
       "<style scoped>\n",
       "    .dataframe tbody tr th:only-of-type {\n",
       "        vertical-align: middle;\n",
       "    }\n",
       "\n",
       "    .dataframe tbody tr th {\n",
       "        vertical-align: top;\n",
       "    }\n",
       "\n",
       "    .dataframe thead th {\n",
       "        text-align: right;\n",
       "    }\n",
       "</style>\n",
       "<table border=\"1\" class=\"dataframe\">\n",
       "  <thead>\n",
       "    <tr style=\"text-align: right;\">\n",
       "      <th></th>\n",
       "      <th>group</th>\n",
       "      <th>count</th>\n",
       "      <th>percentage</th>\n",
       "    </tr>\n",
       "  </thead>\n",
       "  <tbody>\n",
       "    <tr>\n",
       "      <th>0</th>\n",
       "      <td>Treatment</td>\n",
       "      <td>5694</td>\n",
       "      <td>50.0</td>\n",
       "    </tr>\n",
       "    <tr>\n",
       "      <th>1</th>\n",
       "      <td>Control</td>\n",
       "      <td>5694</td>\n",
       "      <td>50.0</td>\n",
       "    </tr>\n",
       "  </tbody>\n",
       "</table>\n",
       "</div>"
      ],
      "text/plain": [
       "       group  count  percentage\n",
       "0  Treatment   5694        50.0\n",
       "1    Control   5694        50.0"
      ]
     },
     "execution_count": 6,
     "metadata": {},
     "output_type": "execute_result"
    }
   ],
   "source": [
    "label_pct = df.group.value_counts(normalize=True)*100\n",
    "label = df.group.value_counts()\n",
    "pd.DataFrame(\n",
    "    {\n",
    "        'group' : label.index, \n",
    "        'count':label.values, \n",
    "        'percentage':label_pct.values,\n",
    "    }\n",
    ")"
   ]
  },
  {
   "cell_type": "code",
   "execution_count": 30,
   "id": "1231bd7e",
   "metadata": {},
   "outputs": [
    {
     "name": "stdout",
     "output_type": "stream",
     "text": [
      "Statistics for the treatment group\n",
      "------------------------------\n"
     ]
    },
    {
     "data": {
      "text/html": [
       "<div>\n",
       "<style scoped>\n",
       "    .dataframe tbody tr th:only-of-type {\n",
       "        vertical-align: middle;\n",
       "    }\n",
       "\n",
       "    .dataframe tbody tr th {\n",
       "        vertical-align: top;\n",
       "    }\n",
       "\n",
       "    .dataframe thead th {\n",
       "        text-align: right;\n",
       "    }\n",
       "</style>\n",
       "<table border=\"1\" class=\"dataframe\">\n",
       "  <thead>\n",
       "    <tr style=\"text-align: right;\">\n",
       "      <th></th>\n",
       "      <th>revenue</th>\n",
       "    </tr>\n",
       "  </thead>\n",
       "  <tbody>\n",
       "    <tr>\n",
       "      <th>count</th>\n",
       "      <td>5.694000e+03</td>\n",
       "    </tr>\n",
       "    <tr>\n",
       "      <th>mean</th>\n",
       "      <td>5.046488e+04</td>\n",
       "    </tr>\n",
       "    <tr>\n",
       "      <th>std</th>\n",
       "      <td>6.129407e+05</td>\n",
       "    </tr>\n",
       "    <tr>\n",
       "      <th>min</th>\n",
       "      <td>2.000000e-02</td>\n",
       "    </tr>\n",
       "    <tr>\n",
       "      <th>25%</th>\n",
       "      <td>1.113875e+02</td>\n",
       "    </tr>\n",
       "    <tr>\n",
       "      <th>50%</th>\n",
       "      <td>3.135900e+02</td>\n",
       "    </tr>\n",
       "    <tr>\n",
       "      <th>75%</th>\n",
       "      <td>8.748700e+02</td>\n",
       "    </tr>\n",
       "    <tr>\n",
       "      <th>max</th>\n",
       "      <td>2.885902e+07</td>\n",
       "    </tr>\n",
       "  </tbody>\n",
       "</table>\n",
       "</div>"
      ],
      "text/plain": [
       "            revenue\n",
       "count  5.694000e+03\n",
       "mean   5.046488e+04\n",
       "std    6.129407e+05\n",
       "min    2.000000e-02\n",
       "25%    1.113875e+02\n",
       "50%    3.135900e+02\n",
       "75%    8.748700e+02\n",
       "max    2.885902e+07"
      ]
     },
     "execution_count": 30,
     "metadata": {},
     "output_type": "execute_result"
    }
   ],
   "source": [
    "print('Statistics for the treatment group')\n",
    "print('-' * 30)\n",
    "df[df.group=='Treatment'].describe()"
   ]
  },
  {
   "cell_type": "code",
   "execution_count": 8,
   "id": "77cea271",
   "metadata": {},
   "outputs": [
    {
     "name": "stdout",
     "output_type": "stream",
     "text": [
      "Statistics for the control group\n",
      "------------------------------\n"
     ]
    },
    {
     "data": {
      "text/html": [
       "<div>\n",
       "<style scoped>\n",
       "    .dataframe tbody tr th:only-of-type {\n",
       "        vertical-align: middle;\n",
       "    }\n",
       "\n",
       "    .dataframe tbody tr th {\n",
       "        vertical-align: top;\n",
       "    }\n",
       "\n",
       "    .dataframe thead th {\n",
       "        text-align: right;\n",
       "    }\n",
       "</style>\n",
       "<table border=\"1\" class=\"dataframe\">\n",
       "  <thead>\n",
       "    <tr style=\"text-align: right;\">\n",
       "      <th></th>\n",
       "      <th>revenue</th>\n",
       "    </tr>\n",
       "  </thead>\n",
       "  <tbody>\n",
       "    <tr>\n",
       "      <th>count</th>\n",
       "      <td>5.694000e+03</td>\n",
       "    </tr>\n",
       "    <tr>\n",
       "      <th>mean</th>\n",
       "      <td>3.857399e+04</td>\n",
       "    </tr>\n",
       "    <tr>\n",
       "      <th>std</th>\n",
       "      <td>2.684739e+05</td>\n",
       "    </tr>\n",
       "    <tr>\n",
       "      <th>min</th>\n",
       "      <td>1.000000e-02</td>\n",
       "    </tr>\n",
       "    <tr>\n",
       "      <th>25%</th>\n",
       "      <td>1.595100e+02</td>\n",
       "    </tr>\n",
       "    <tr>\n",
       "      <th>50%</th>\n",
       "      <td>4.493850e+02</td>\n",
       "    </tr>\n",
       "    <tr>\n",
       "      <th>75%</th>\n",
       "      <td>1.469183e+03</td>\n",
       "    </tr>\n",
       "    <tr>\n",
       "      <th>max</th>\n",
       "      <td>8.962630e+06</td>\n",
       "    </tr>\n",
       "  </tbody>\n",
       "</table>\n",
       "</div>"
      ],
      "text/plain": [
       "            revenue\n",
       "count  5.694000e+03\n",
       "mean   3.857399e+04\n",
       "std    2.684739e+05\n",
       "min    1.000000e-02\n",
       "25%    1.595100e+02\n",
       "50%    4.493850e+02\n",
       "75%    1.469183e+03\n",
       "max    8.962630e+06"
      ]
     },
     "execution_count": 8,
     "metadata": {},
     "output_type": "execute_result"
    }
   ],
   "source": [
    "print('Statistics for the control group')\n",
    "print('-' * 30)\n",
    "df[df.group=='Control'].describe()"
   ]
  },
  {
   "cell_type": "code",
   "execution_count": 9,
   "id": "0f21311a",
   "metadata": {},
   "outputs": [
    {
     "data": {
      "image/png": "[encoded data removed]",
      "text/plain": [
       "<Figure size 576x432 with 1 Axes>"
      ]
     },
     "metadata": {
      "needs_background": "light"
     },
     "output_type": "display_data"
    }
   ],
   "source": [
    "fig, ax = plt.subplots(figsize=(8,6))\n",
    "\n",
    "# Log distribution of budget and spend\n",
    "np.log10(df[df.group=='Control'].revenue).hist(\n",
    "    bins=50, ax=ax, color='orangered', \n",
    "    label = 'Control'\n",
    ")\n",
    "np.log10(df[df.group=='Treatment'].revenue).hist(\n",
    "    bins=50, ax=ax, color='green', \n",
    "    label = 'Treatment'\n",
    ")\n",
    "# axes labels\n",
    "plt.title('Distribution of revenue')\n",
    "plt.xlabel('Revenue (logscale)')\n",
    "plt.legend(loc='best')\n",
    "plt.savefig('../images/fig1.png')\n",
    "plt.show()"
   ]
  },
  {
   "cell_type": "markdown",
   "id": "688ca9b5",
   "metadata": {},
   "source": [
    "## 1.4. Data exploration by segmenting phone operating systems\n",
    "The distributions below show segmentation by phone operating systems within the treatment and control groups. The results show disproportionality in the number of users (customers) and total revenue across the phone operating systems. \n",
    "\n",
    "In practice, any interesting feature in the data should be investigated by invoking the Twyman's law. For instance, one might want to investigate if the new feature is compactible with different phone operating systems."
   ]
  },
  {
   "cell_type": "code",
   "execution_count": 10,
   "id": "7767a087",
   "metadata": {},
   "outputs": [
    {
     "name": "stdout",
     "output_type": "stream",
     "text": [
      "Mean revenue (revenue-per-user) in the treatment & control groups\n",
      "------------------------------------------------------------\n"
     ]
    },
    {
     "data": {
      "text/html": [
       "<div>\n",
       "<style scoped>\n",
       "    .dataframe tbody tr th:only-of-type {\n",
       "        vertical-align: middle;\n",
       "    }\n",
       "\n",
       "    .dataframe tbody tr th {\n",
       "        vertical-align: top;\n",
       "    }\n",
       "\n",
       "    .dataframe thead th {\n",
       "        text-align: right;\n",
       "    }\n",
       "</style>\n",
       "<table border=\"1\" class=\"dataframe\">\n",
       "  <thead>\n",
       "    <tr style=\"text-align: right;\">\n",
       "      <th></th>\n",
       "      <th></th>\n",
       "      <th>revenue</th>\n",
       "    </tr>\n",
       "    <tr>\n",
       "      <th>group</th>\n",
       "      <th>phone_os_ty</th>\n",
       "      <th></th>\n",
       "    </tr>\n",
       "  </thead>\n",
       "  <tbody>\n",
       "    <tr>\n",
       "      <th rowspan=\"3\" valign=\"top\">Control</th>\n",
       "      <th>Android</th>\n",
       "      <td>69827.511169</td>\n",
       "    </tr>\n",
       "    <tr>\n",
       "      <th>Windows</th>\n",
       "      <td>19986.744016</td>\n",
       "    </tr>\n",
       "    <tr>\n",
       "      <th>iOS</th>\n",
       "      <td>23612.980729</td>\n",
       "    </tr>\n",
       "    <tr>\n",
       "      <th rowspan=\"3\" valign=\"top\">Treatment</th>\n",
       "      <th>Android</th>\n",
       "      <td>64361.017128</td>\n",
       "    </tr>\n",
       "    <tr>\n",
       "      <th>Windows</th>\n",
       "      <td>33754.845983</td>\n",
       "    </tr>\n",
       "    <tr>\n",
       "      <th>iOS</th>\n",
       "      <td>46059.416325</td>\n",
       "    </tr>\n",
       "  </tbody>\n",
       "</table>\n",
       "</div>"
      ],
      "text/plain": [
       "                            revenue\n",
       "group     phone_os_ty              \n",
       "Control   Android      69827.511169\n",
       "          Windows      19986.744016\n",
       "          iOS          23612.980729\n",
       "Treatment Android      64361.017128\n",
       "          Windows      33754.845983\n",
       "          iOS          46059.416325"
      ]
     },
     "execution_count": 10,
     "metadata": {},
     "output_type": "execute_result"
    }
   ],
   "source": [
    "print('Mean revenue (revenue-per-user) in the treatment & control groups')\n",
    "print('-' * 60)\n",
    "df.pivot_table('revenue', index=['group','phone_os_ty'], aggfunc='mean')"
   ]
  },
  {
   "cell_type": "code",
   "execution_count": 11,
   "id": "7fdeaa72",
   "metadata": {},
   "outputs": [
    {
     "data": {
      "image/png": "[encoded data removed]",
      "text/plain": [
       "<Figure size 1440x504 with 2 Axes>"
      ]
     },
     "metadata": {
      "needs_background": "light"
     },
     "output_type": "display_data"
    }
   ],
   "source": [
    "fig, (ax1, ax2) = plt.subplots(1,2, figsize=(20,7))\n",
    "\n",
    "# plots\n",
    "pdf1 = pd.crosstab(values=df['revenue'], index=df['group'],\n",
    "                 columns=df['phone_os_ty'], aggfunc='sum')\n",
    "\n",
    "pdf2 = pd.crosstab(values=df['revenue'], index=df['group'],\n",
    "                 columns=df['phone_os_ty'], aggfunc='sum',\n",
    "                 normalize='columns')\n",
    "\n",
    "pdf1.plot(kind='bar', ax=ax1)\n",
    "pdf2.plot(kind='bar', ax=ax2)\n",
    "\n",
    "# axes labels\n",
    "label = ['0%', '10%', '20%', '30%', '40%','50%', '60%', '70%']\n",
    "label_ = ['0', '25M', '50M', '75M', '100M', '125M', '150M']\n",
    "ax1.set_title('Total revenue by phone OS system')\n",
    "ax1.set_ylabel('Total revenue in millions')\n",
    "ax1.set_yticks(np.arange(0,1.6*10**8, 0.25*10**8))\n",
    "ax1.set_yticklabels(label_)\n",
    "ax1.set_xticklabels(['Control', 'Treatment'], rotation = 45)\n",
    "ax2.set_title('Percentage of revenue  in each variant')\n",
    "ax2.set_ylabel('Percentage of revenue')\n",
    "ax2.set_yticklabels(label)\n",
    "ax2.set_xticklabels(['Control', 'Treatment'], rotation = 45)\n",
    "plt.savefig('../images/fig2.png')\n",
    "plt.show()"
   ]
  },
  {
   "cell_type": "code",
   "execution_count": 12,
   "id": "9345502c",
   "metadata": {},
   "outputs": [
    {
     "data": {
      "image/png": "[encoded data removed]",
      "text/plain": [
       "<Figure size 1440x504 with 2 Axes>"
      ]
     },
     "metadata": {
      "needs_background": "light"
     },
     "output_type": "display_data"
    }
   ],
   "source": [
    "fig, (ax1, ax2) = plt.subplots(1,2, figsize=(20,7))\n",
    "\n",
    "# plots\n",
    "pdf1 = df.pivot_table('revenue', index='phone_os_ty', \n",
    "             columns='group', aggfunc='count')\n",
    "\n",
    "pdf2 = pd.crosstab(values=df['revenue'], index=df['group'],\n",
    "                 columns=df['phone_os_ty'], aggfunc='count', \n",
    "                 normalize='columns')\n",
    "\n",
    "pdf1.plot(kind='bar', ax=ax1)\n",
    "pdf2.plot(kind='bar', ax=ax2)\n",
    "\n",
    "# axes labels\n",
    "label1 = ['0%', '10%', '20%', '30%', '40%', '50%', '60%']\n",
    "label2 = ['Android', 'Windows', 'iOS']\n",
    "ax1.set_ylabel('Number of users (customers)')\n",
    "ax1.set_xticklabels(label2, rotation=45)\n",
    "ax1.set_title('Number of customers by phone OS type')\n",
    "ax2.set_ylabel('Percentage of users (customers)')\n",
    "ax2.set_yticks(np.arange(0,0.7,0.1))\n",
    "ax2.set_yticklabels(label1)\n",
    "ax2.set_xticklabels(['Control', 'Treatment'], rotation=45)\n",
    "ax2.legend(loc=9)\n",
    "ax2.set_title('Percentage of customers in each variant')\n",
    "plt.savefig('../images/fig3.png')\n",
    "plt.show()"
   ]
  },
  {
   "cell_type": "code",
   "execution_count": 13,
   "id": "8c32bff8",
   "metadata": {},
   "outputs": [
    {
     "data": {
      "image/png": "[encoded data removed]",
      "text/plain": [
       "<Figure size 1440x504 with 2 Axes>"
      ]
     },
     "metadata": {
      "needs_background": "light"
     },
     "output_type": "display_data"
    }
   ],
   "source": [
    "fig, (ax1, ax2) = plt.subplots(1,2, figsize = (20,7))\n",
    "\n",
    "# Log distribution of ARPU in treament group\n",
    "np.log10(df[(df.phone_os_ty=='Android') & (df.group=='Treatment')].revenue)\\\n",
    ".hist(bins=50, ax=ax1, color='orangered', label='Android')\n",
    "\n",
    "np.log10(df[(df.phone_os_ty=='Windows')& (df.group=='Treatment')].revenue)\\\n",
    ".hist(bins=50, ax=ax1, color='green', label='Windows')\n",
    "\n",
    "np.log10(df[(df.phone_os_ty=='iOS')& (df.group=='Treatment')].revenue)\\\n",
    ".hist(bins=50, ax=ax1, alpha=0.3, label='iOS',color='red')\n",
    "\n",
    "# Log distribution of ARPU in control group\n",
    "np.log10(df[(df.phone_os_ty=='Android') & (df.group=='Control')].revenue)\\\n",
    ".hist(bins=50, ax=ax2, color='orangered', label='Android')\n",
    "\n",
    "np.log10(df[(df.phone_os_ty=='Windows')& (df.group=='Control')].revenue)\\\n",
    ".hist(bins=50, ax=ax2, color='green', label='Windows')\n",
    "\n",
    "np.log10(df[(df.phone_os_ty=='iOS')& (df.group=='Control')].revenue)\\\n",
    ".hist(bins=50, ax=ax2, alpha=0.3, label='iOS',color='red')\n",
    "\n",
    "# axes labels\n",
    "ax1.set_title('Distribution of revenue in the treatment group')\n",
    "ax1.set_xlabel('Revenue (logscale)')\n",
    "ax1.legend(loc='best')\n",
    "ax2.set_title('Distribution of revenue in the control group')\n",
    "ax2.set_xlabel('Revenue (logscale)')\n",
    "ax2.legend(loc='best')\n",
    "plt.savefig('../images/fig4.png')\n",
    "plt.show()"
   ]
  },
  {
   "cell_type": "markdown",
   "id": "d55726e9",
   "metadata": {
    "tags": []
   },
   "source": [
    "# Section 2. Two-Sample Student's T-Test\n",
    "In this section, I will perform a 2-sample Student's t-tests. The Student's t-test is based upon the  following assumptions:\n",
    "\n",
    "1). Normality: The treatement and control samples were drawn from two normally distributed populations.\n",
    "\n",
    "2). Homoscedasticity: The population variances are equal and unknown, i.e., $\\sigma_1^2=\\sigma_2^2=\\sigma^2$.\n",
    "\n",
    "3). Independence or stable unit treatment value assumption (SUTVA): The outcome of any unit (e.g., customer) in the experiment is not affected by the treatment of any other  unit. In other words, the treatement and control samples are independent.\n",
    "\n",
    "Next, we formulate the hypotheses:\n",
    "\n",
    "$$\n",
    "H_0: \\mu_1 = \\mu_2 \\quad \\text{verse}\\quad H_1: \\mu_1 \\neq \\mu_2,\n",
    "$$\n",
    "\n",
    "where $\\mu_1, \\mu_2$ are the two populations means. The null hypothesis ($H_0$) states that the mean values of the two populations are the same, whereas the alternative hypothesis ($H_1$) states the mean values of the two populations are different. The goal of the hypothesis test is to decide, based on the treatment and control samples, which of the two hypotheses is true. If our result leads to the rejection of $H_0$, we conclude that there is statistically significant difference between the two populations (or samples). In other words, there is statistically significant treatement effect.\n",
    "\n",
    "The test statistic is defined as:\n",
    "\n",
    "$$t = \\frac{\\bar{x}_1-\\bar{x}_2}{se(\\bar{x}_1-\\bar{x}_2)},$$\n",
    "\n",
    "where $\\bar{x}_1$ and $\\bar{x}_2$ are the revenue-per-user in the treatment and control groups repectively. Here, $\\hat{\\delta} = \\bar{x}_1-\\bar{x}_2$ is the estimate of $\\delta = \\mu_1-\\mu_2$, and $se(\\bar{x}_1-\\bar{x}_2)$ is the standard error of $\\hat{\\delta}$, given by\n",
    "\n",
    "$$ se(\\bar{x}_1-\\bar{x}_2) = s_{\\text{pooled}}\\sqrt{\\frac{1}{n_1}+\\frac{1}{n_2}},$$\n",
    "\n",
    "where $s_{\\text{pooled}}^2$ is the pooled variance estimate of $\\sigma^2$, given by\n",
    "$$ s_{\\text{pooled}}^2 = \\frac{(n_1-1)s_1^2 + (n_2-1)s_2^2}{n_1+n_2-2}.$$\n",
    "\n",
    "Here, $s_1^2,s_2^2$ are the sample variances of the treatment and control samples (i.e., the estimates of $\\sigma_1^2, \\sigma_2^2$), and $n_1, n_2$ are the respective number of samples. Under the null hypothesis $H_0$, the test statistic follows a t-distribution with $n_1+n_2-2$ degrees of freedom.\n",
    "\n",
    "We compute the p-value, which is the probability of observing a value equal to $|t|$ or larger, assuming that the null hypothesis is true. We pick a significance level $\\alpha =0.05$ and if $\\text{p-value} \\leq  \\alpha$, we conclude that the test result is statistically significant."
   ]
  },
  {
   "cell_type": "markdown",
   "id": "53294d96",
   "metadata": {},
   "source": [
    "## 2.1. Overall treatment effect\n",
    "Let's consider the overall treatment effect for all customers to determine if there is a statistically significant treatment effect. The result below shows a $\\text{p-value} = 0.18 > 0.05$, which is greater that the significance level. Therefore, the data is not enough to make any conclusion overall."
   ]
  },
  {
   "cell_type": "code",
   "execution_count": 14,
   "id": "cdc4a8f0",
   "metadata": {},
   "outputs": [],
   "source": [
    "df_contr = df[df.group=='Control'] # control group\n",
    "df_treat = df[df.group=='Treatment'] # treatment group"
   ]
  },
  {
   "cell_type": "code",
   "execution_count": 15,
   "id": "19fa8d19",
   "metadata": {},
   "outputs": [
    {
     "name": "stdout",
     "output_type": "stream",
     "text": [
      "The test statistic overall = 1.340890556471711\n",
      "The p-value overall = 0.17998273790333283\n"
     ]
    }
   ],
   "source": [
    "# compute test-statistic and p-value\n",
    "t_all, pval = stat_test.student_ttest(df_treat.revenue, df_contr.revenue)\n",
    "print(f'The test statistic overall = {t_all}')\n",
    "print(f'The p-value overall = {pval}')"
   ]
  },
  {
   "cell_type": "markdown",
   "id": "c2756111",
   "metadata": {},
   "source": [
    "## 2.2. Segmented treatment effect by phone operating systems"
   ]
  },
  {
   "cell_type": "markdown",
   "id": "b3259713",
   "metadata": {},
   "source": [
    "The analysis below shows that across the three phone operating systems, only iOS has a $\\text{p-value}< 0.05$. Therefore, for iOS the null hypothesis is rejected and we conclude that there is a statistically significant treatment effect. These results suggest that the new feature was effective at increasing revenue for customers using the iOS phones. For Android and Windows OS, there is not enough data to make any conclusion."
   ]
  },
  {
   "cell_type": "markdown",
   "id": "759418ca",
   "metadata": {},
   "source": [
    "## 2.2.1. Android treatment effect"
   ]
  },
  {
   "cell_type": "code",
   "execution_count": 16,
   "id": "6e165258",
   "metadata": {},
   "outputs": [],
   "source": [
    "df_contr_android = df[(df.group=='Control') &(df.phone_os_ty=='Android')]  # control group\n",
    "df_treat_android = df[(df.group=='Treatment')  & (df.phone_os_ty=='Android')] # treatment group"
   ]
  },
  {
   "cell_type": "code",
   "execution_count": 17,
   "id": "3621a2da",
   "metadata": {},
   "outputs": [
    {
     "name": "stdout",
     "output_type": "stream",
     "text": [
      "The test statistic for Android OS = -0.2567218129537602\n",
      "The p-value for Android OS = 0.79740831651369\n"
     ]
    }
   ],
   "source": [
    "# compute test-statistic and p-value\n",
    "t_android, pval = stat_test.student_ttest(df_treat_android.revenue, df_contr_android.revenue)\n",
    "print(f'The test statistic for Android OS = {t_android}')\n",
    "print(f'The p-value for Android OS = {pval}')"
   ]
  },
  {
   "cell_type": "markdown",
   "id": "a36cc96b",
   "metadata": {},
   "source": [
    "## 2.2.2. Windows treatment effect"
   ]
  },
  {
   "cell_type": "code",
   "execution_count": 18,
   "id": "9363cf33",
   "metadata": {},
   "outputs": [],
   "source": [
    "df_contr_windows = df[(df.group=='Control') &(df.phone_os_ty=='Windows')] # control group\n",
    "df_treat_windows = df[(df.group=='Treatment') & (df.phone_os_ty=='Windows')] # treatment group"
   ]
  },
  {
   "cell_type": "code",
   "execution_count": 19,
   "id": "66878c10",
   "metadata": {},
   "outputs": [
    {
     "name": "stdout",
     "output_type": "stream",
     "text": [
      "The test statistic for Windows OS = 0.9622026428444693\n",
      "The p-value for Windows OS = 0.336187865520298\n"
     ]
    }
   ],
   "source": [
    "# compute test-statistic and p-value\n",
    "t_windows, pval = stat_test.student_ttest(df_treat_windows.revenue,df_contr_windows.revenue)\n",
    "print(f'The test statistic for Windows OS = {t_windows}')\n",
    "print(f'The p-value for Windows OS = {pval}')"
   ]
  },
  {
   "cell_type": "markdown",
   "id": "6054f638",
   "metadata": {},
   "source": [
    "## 2.2.3. iOS treatment effect"
   ]
  },
  {
   "cell_type": "code",
   "execution_count": 20,
   "id": "245b2595",
   "metadata": {},
   "outputs": [],
   "source": [
    "df_contr_ios = df[(df.group=='Control') &(df.phone_os_ty=='iOS')] # control group\n",
    "df_treat_ios = df[(df.group=='Treatment') & (df.phone_os_ty=='iOS')] # treatment group"
   ]
  },
  {
   "cell_type": "code",
   "execution_count": 21,
   "id": "f4f3983b",
   "metadata": {},
   "outputs": [
    {
     "name": "stdout",
     "output_type": "stream",
     "text": [
      "The test statistic for iOS = 2.3633743617485288\n",
      "The p-value for iOS = 0.018137170042462878\n"
     ]
    }
   ],
   "source": [
    "# compute test-statistic and p-value\n",
    "t_ios, pval = stat_test.student_ttest(df_treat_ios.revenue, df_contr_ios.revenue)\n",
    "print(f'The test statistic for iOS = {t_ios}')\n",
    "print(f'The p-value for iOS = {pval}')"
   ]
  },
  {
   "cell_type": "markdown",
   "id": "c0e90e9b",
   "metadata": {},
   "source": [
    "# Section 3. Two-Sample Welch's T-Test\n",
    "In this section, I will perform a 2-sample Welch's t-tests. The Welch's t-test is based upon the following assumptions:\n",
    "\n",
    "1). Normality: The treatement and control samples were drawn from two normally distributed populations.\n",
    "\n",
    "2). Heteroscedasticity: The population variances are not equal, and they are unknown, i.e., $\\sigma_1^2\\neq \\sigma_2^2$. \n",
    "\n",
    "3). Independence or stable unit treatment value assumption (SUTVA): The outcome of any unit (e.g., customer) in the experiment is not affected by the treatment of any other  unit. In other words, the treatement and control samples are independent.\n",
    "\n",
    "The hypotheses statements are the same as in Section 2, but the standard error in the  test statistic is now defined as\n",
    "\n",
    "$$ se(\\bar{x}_2-\\bar{x}_1) = \\sqrt{\\frac{s_1^2}{n_1}+\\frac{s_1^2}{n_2}},$$\n",
    "\n",
    "where $s_1^2,s_2^2$ are the sample variances of the treatment and control samples (i.e., the estimate of $\\sigma_1^2, \\sigma_2^2$), and $n_1, n_2$ are the respective number of samples.\n",
    "\n",
    "The exact distribution of test statistic in this case is  very complex. However, it can be approximated to a t-distribution with $\\nu$ degrees of freedom,  given by\n",
    "\n",
    "$$\n",
    "\\nu \\approx \\frac{\\Big(\\frac{s_1^2}{n_1} + \\frac{s_2^2}{n_2}\\Big)^2}{\\frac{s_1^4}{n_1^2(n_1-1)} + \\frac{s_2^4}{n_2^2(n_2-1)}}.\n",
    "$$\n",
    "\n",
    "Note that $\\nu$ is generally non-integer unlike the Student's degrees of freedom. "
   ]
  },
  {
   "cell_type": "markdown",
   "id": "b599f5e3",
   "metadata": {},
   "source": [
    "## 3.1. Overall treatment effect\n",
    "Due to large sample size, the Student's and Welch's t-tests yield similar results and the same conclusion. That is $\\text{p-value} = 0.18 > 0.05$. Therefore, the data is not enough to make any conclusion overall."
   ]
  },
  {
   "cell_type": "code",
   "execution_count": 22,
   "id": "f18d3a5a",
   "metadata": {},
   "outputs": [
    {
     "name": "stdout",
     "output_type": "stream",
     "text": [
      "The test statistic overall = 1.340890556471711\n",
      "The p-value overall = 0.17999503583943546\n"
     ]
    }
   ],
   "source": [
    "# compute test-statistic and p-value\n",
    "t_all, pval = stat_test.welch_ttest(df_treat.revenue, df_contr.revenue)\n",
    "print(f'The test statistic overall = {t_all}')\n",
    "print(f'The p-value overall = {pval}')"
   ]
  },
  {
   "cell_type": "markdown",
   "id": "b8f7dc06",
   "metadata": {},
   "source": [
    "## 3.2. Segmented treatment effect by phone operating systems\n",
    "Here, I reached the same conclusion as in the Student's t-test."
   ]
  },
  {
   "cell_type": "markdown",
   "id": "e8494e0f",
   "metadata": {},
   "source": [
    "## 3.2.1. Android treatment effect"
   ]
  },
  {
   "cell_type": "code",
   "execution_count": 23,
   "id": "07f59ae2",
   "metadata": {},
   "outputs": [
    {
     "name": "stdout",
     "output_type": "stream",
     "text": [
      "The test statistic for Android OS = -0.24898513224024585\n",
      "The p-value for Android OS = 0.8033929060252095\n"
     ]
    }
   ],
   "source": [
    "# compute test-statistic and p-value\n",
    "t_android, pval = stat_test.welch_ttest(df_treat_android.revenue, df_contr_android.revenue)\n",
    "print(f'The test statistic for Android OS = {t_android}')\n",
    "print(f'The p-value for Android OS = {pval}')"
   ]
  },
  {
   "cell_type": "markdown",
   "id": "13de2ce9",
   "metadata": {},
   "source": [
    "## 3.2.2. Windows treatment effect"
   ]
  },
  {
   "cell_type": "code",
   "execution_count": 24,
   "id": "0c9635e5",
   "metadata": {},
   "outputs": [
    {
     "name": "stdout",
     "output_type": "stream",
     "text": [
      "The test statistic for Windows OS = 0.9571072080457974\n",
      "The p-value for Windows OS = 0.33878497356722226\n"
     ]
    }
   ],
   "source": [
    "# compute test-statistic and p-value\n",
    "t_windows, pval = stat_test.welch_ttest(df_treat_windows.revenue, df_contr_windows.revenue)\n",
    "print(f'The test statistic for Windows OS = {t_windows}')\n",
    "print(f'The p-value for Windows OS = {pval}')"
   ]
  },
  {
   "cell_type": "markdown",
   "id": "4248f57e",
   "metadata": {},
   "source": [
    "## 3.2.3. iOS treatment effect"
   ]
  },
  {
   "cell_type": "code",
   "execution_count": 25,
   "id": "4fcbaed6",
   "metadata": {},
   "outputs": [
    {
     "name": "stdout",
     "output_type": "stream",
     "text": [
      "The test statistic for iOS = 2.426721556201394\n",
      "The p-value for iOS = 0.015279991895729796\n"
     ]
    }
   ],
   "source": [
    "# compute test-statistic and p-value\n",
    "t_ios, pval = stat_test.welch_ttest(df_treat_ios.revenue, df_contr_ios.revenue)\n",
    "print(f'The test statistic for iOS = {t_ios}')\n",
    "print(f'The p-value for iOS = {pval}')"
   ]
  },
  {
   "cell_type": "markdown",
   "id": "314c827a",
   "metadata": {},
   "source": [
    "# Section 4. The Mann-Whitney U Test\n",
    "The parametric t-tests (Student and Welch) used above made some assumptions in advance about the population from which the treatment and control samples were drawn. Clearly, we can see that those assumptions were not valid in the current sample data. Therefore, we should resort to a non-parameter test in which there is no assumption about the nature of the population from which the treatment and control samples were drawn. However, we still require that SUTVA or indenpendence assumption holds. \n",
    "\n",
    "The Mann-Whitney U Test is a good non-parameter test to use. The U statistic is defined as\n",
    "\n",
    "$$\n",
    "U_1 = n_1n_2 + \\frac{ n_1(n_1+1)}{2} - R_1 \\quad \\text{and} \\quad\n",
    "U_2 = n_1n_2 + \\frac{ n_2(n_2+1)}{2} - R_2,\n",
    "$$\n",
    "\n",
    "where  $R_1$ is the sum of the ranks  assigned to sample 1 (i.e., sum of the indexes assigned to the observations after sorting the combined samples), and $R_2$ is the sum of the ranks assigned to sample 2. Here, $U_1$  is the  number of times an  $x_1^i$ from sample 1 is greater than an  $x_2^i$ from sample 2. Similarly,  $U_2$  is the  number of times an  $x_1^i$ from sample 1 is smaller than an  $x_2^i$  from sample 2.\n",
    "\n",
    "Due to large sample sizes in the present problem, a normal approximation can be used by defining:\n",
    "\n",
    "$$\n",
    "\\mu_U = \\frac{n_1n_2}{2},\\quad \\sigma_U =\\sqrt{\\Big(  \\frac{n_1n_2}{N\\big(N-1\\big)}\\Big)\\Big(  \\frac{N^3 -N}{12} - \\sum_{j}^{n_s}\\frac{t_j^3-t_j}{12}\\Big) },\n",
    "$$\n",
    "\n",
    "where $\\mu_U$  and $\\sigma_U$ are the mean and standard deviation of  the $U$ distribution respectively,   $n_s$ is the number of samples in which ties occur, and $t_j$ is the number of observations tied for a given rank in sample $j$. In the absence of ties $t =0$. \n",
    "\n",
    "The corresponding test statistic is given by\n",
    "\n",
    "$$\n",
    "z = \\frac{U -\\mu_U}{\\sigma_U},\n",
    "$$\n",
    "\n",
    "where $z\\sim N(0,1)$. In the normal approximation, the computation of $U$ can be done by either $U_1$ or $U_2$,  because $|z|$ is the same whether  $U_1$ or $U_2$ is used in computing $U$.\n",
    "\n",
    "The p-value  is calculated from the standard normal distribution under $H_0$, given by\n",
    "\n",
    "$$\n",
    "\\text{p-value} = P\\Big(|Z|\\geq |z|\\Big\\vert Z = N(0,1)\\Big)\n",
    "= 2P\\Big(Z< -|z|\\Big\\vert Z = N(0,1)\\Big)\n",
    "= 2\\Phi(-|z|),\n",
    "$$\n",
    "\n",
    "where $\\Phi$ is the CDF of normal distribution."
   ]
  },
  {
   "cell_type": "markdown",
   "id": "aed20991",
   "metadata": {},
   "source": [
    "## 4.1. Overall treatment effect\n",
    "In the Mann-Whitney u-test, the overrall $\\text{p-value} = 1.1\\times 10^{-36} \\ll 0.05$. This shows a very strong evidence against the null hypothesis. Therefore, we reject the null the hypothesis, and conclude that the result is statistically significant. "
   ]
  },
  {
   "cell_type": "code",
   "execution_count": 26,
   "id": "43b00b4f",
   "metadata": {
    "tags": []
   },
   "outputs": [
    {
     "name": "stdout",
     "output_type": "stream",
     "text": [
      "Ux statistic overall = 13999865.5\n",
      "Uy statistic overall = 18421770.5\n",
      "p-value overall = 2.0060721862247874e-36\n"
     ]
    }
   ],
   "source": [
    "# compute U-statistic and p-value\n",
    "ux, pval = stat_test.mann_whitney_utest(df_treat.revenue, df_contr.revenue)\n",
    "\n",
    "nx = len(df_treat.revenue) # number of treatment samples\n",
    "ny = len(df_contr.revenue) # number of control samples\n",
    "\n",
    "uy = nx*ny -ux # compute uy\n",
    "\n",
    "print(f'Ux statistic overall = {ux}')\n",
    "print(f'Uy statistic overall = {uy}')\n",
    "print(f'p-value overall = {pval}')"
   ]
  },
  {
   "cell_type": "markdown",
   "id": "3d0fe90d",
   "metadata": {},
   "source": [
    "## 4.2. Segmented treatment effect by phone operating systems\n",
    "\n",
    "Across all phone operating systems, the Mann-Whitney u-test yields a $\\text{p-value} \\ll 0.05$. This shows a very strong evidence against the null hypothesis. Therefore, we reject the null the hypothesis, and conclude that the result is statistically significant. "
   ]
  },
  {
   "cell_type": "markdown",
   "id": "493eb3bc",
   "metadata": {},
   "source": [
    "## 4.2.1.  Android treatment effect"
   ]
  },
  {
   "cell_type": "code",
   "execution_count": 27,
   "id": "00dd8062",
   "metadata": {},
   "outputs": [
    {
     "name": "stdout",
     "output_type": "stream",
     "text": [
      "Ux statistic Android OS = 1372076.5\n",
      "Uy statistic Android OS = 1812267.5\n",
      "p-value Android OS = 8.945255740199019e-13\n"
     ]
    }
   ],
   "source": [
    "# compute U-statistic and p-value\n",
    "ux, pval = stat_test.mann_whitney_utest(df_treat_android.revenue, df_contr_android.revenue)\n",
    "\n",
    "nx = len(df_treat_android.revenue) # number of treatment samples\n",
    "ny = len(df_contr_android.revenue) # number of control samples\n",
    "\n",
    "uy = nx*ny -ux # compute uy\n",
    "\n",
    "print(f'Ux statistic Android OS = {ux}')\n",
    "print(f'Uy statistic Android OS = {uy}')\n",
    "print(f'p-value Android OS = {pval}')"
   ]
  },
  {
   "cell_type": "markdown",
   "id": "6a716d8a",
   "metadata": {},
   "source": [
    "## 4.2.2. Windows treatment effect"
   ]
  },
  {
   "cell_type": "code",
   "execution_count": 28,
   "id": "24f5a2b0",
   "metadata": {},
   "outputs": [
    {
     "name": "stdout",
     "output_type": "stream",
     "text": [
      "Ux statistic Windows OS = 132822.0\n",
      "Uy statistic Windows OS = 102832.0\n",
      "p-value Windows OS = 0.000599063852662517\n"
     ]
    }
   ],
   "source": [
    "# compute U-statistic and p-value\n",
    "ux, pval = stat_test.mann_whitney_utest(df_treat_windows.revenue, df_contr_windows.revenue)\n",
    "\n",
    "nx = len(df_treat_windows.revenue) # number of treatment samples\n",
    "ny = len(df_contr_windows.revenue) # number of control samples\n",
    "\n",
    "uy = nx*ny-ux # compute uy\n",
    "\n",
    "print(f'Ux statistic Windows OS = {ux}')\n",
    "print(f'Uy statistic Windows OS = {uy}')\n",
    "print(f'p-value Windows OS = {pval}')"
   ]
  },
  {
   "cell_type": "markdown",
   "id": "665433a7",
   "metadata": {},
   "source": [
    "## 4.2.3. iOS treatment effect"
   ]
  },
  {
   "cell_type": "code",
   "execution_count": 29,
   "id": "24693a30",
   "metadata": {},
   "outputs": [
    {
     "name": "stdout",
     "output_type": "stream",
     "text": [
      "Ux statistic Windows OS = 4937622.5\n",
      "Uy statistic Windows OS = 6758533.5\n",
      "p-value Windows OS = 7.375169377112366e-29\n"
     ]
    }
   ],
   "source": [
    "# compute U-statistic and p-value\n",
    "ux, pval = stat_test.mann_whitney_utest(df_treat_ios.revenue, df_contr_ios.revenue)\n",
    "\n",
    "nx = len(df_treat_ios.revenue) # number of treatment samples\n",
    "ny = len(df_contr_ios.revenue) # number of control samples\n",
    "\n",
    "uy = nx*ny -ux # compute uy\n",
    "\n",
    "print(f'Ux statistic Windows OS = {ux}')\n",
    "print(f'Uy statistic Windows OS = {uy}')\n",
    "print(f'p-value Windows OS = {pval}')"
   ]
  },
  {
   "cell_type": "markdown",
   "id": "5ce84831",
   "metadata": {},
   "source": [
    "# Conclusion"
   ]
  },
  {
   "cell_type": "markdown",
   "id": "026a7045",
   "metadata": {},
   "source": [
    "In this project, I examined the problem of testing if a new feature introduced by an e-commerce company through their mobile app will increase revenue.  Through data exploration, I showed that different segmentations of phone operating systems show heterogeneity in the treatment and control groups. Moveover, the revenue is highly skewed to the right, because some customers spent more than others.\n",
    "\n",
    "Three statistical tests were conducted. The parametric t-tests (Student and Welch) did not give enough evidence against the null hypothesis. Therefore, I concluded that the data is not enough to support any conclusion. By looking at different segmentation of the data, I established a statistically significant treatment effect for iOS customers, with $\\text{p-value}=0.012$.\n",
    "\n",
    "From the data exploration, it is evident that the assumptions of the Student's and the Welch's t-tests were not valid, therefore the Mann-Whitney u-test was performed. The Mann-Whitney u-test shows a very strong evidence against the null hypothesis in both overall and segmentation analyses. Therefore, the null hypothesis was rejected, and I conlcuded that there is a statistically significant treatment effect. Hence, the new feature shows improvement in revenue and the e-commerce company can go ahead and lunch it to all their customers."
   ]
  },
  {
   "cell_type": "code",
   "execution_count": null,
   "id": "94d96de1",
   "metadata": {},
   "outputs": [],
   "source": []
  }
 ],
 "metadata": {
  "interpreter": {
   "hash": "aee8b7b246df8f9039afb4144a1f6fd8d2ca17a180786b69acc140d282b71a49"
  },
  "kernelspec": {
   "display_name": "Python 3",
   "language": "python",
   "name": "python3"
  },
  "language_info": {
   "codemirror_mode": {
    "name": "ipython",
    "version": 3
   },
   "file_extension": ".py",
   "mimetype": "text/x-python",
   "name": "python",
   "nbconvert_exporter": "python",
   "pygments_lexer": "ipython3",
   "version": "3.9.4"
  }
 },
 "nbformat": 4,
 "nbformat_minor": 5
}
