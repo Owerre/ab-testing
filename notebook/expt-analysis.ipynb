{
 "cells": [
  {
   "cell_type": "markdown",
   "id": "07b4bd17",
   "metadata": {},
   "source": [
    "# A/B Testing Statistical Analysis"
   ]
  },
  {
   "cell_type": "code",
   "execution_count": 1,
   "id": "c6aaf5d4",
   "metadata": {},
   "outputs": [],
   "source": [
    "%matplotlib inline\n",
    "\n",
    "# Ignore deprecated warning\n",
    "import warnings\n",
    "warnings.filterwarnings(\"ignore\")\n",
    "\n",
    "# Data manipulation\n",
    "import pandas as pd\n",
    "import numpy as np\n",
    "\n",
    "# Data visualization\n",
    "import matplotlib.pyplot as plt\n",
    "\n",
    "# Set figure font size\n",
    "plt.rcParams.update({'font.size': 16})"
   ]
  },
  {
   "cell_type": "code",
   "execution_count": 2,
   "id": "80b597f3",
   "metadata": {},
   "outputs": [],
   "source": [
    "# Import custom class\n",
    "%run -i '../src/test.py'"
   ]
  },
  {
   "cell_type": "code",
   "execution_count": 3,
   "id": "25511288",
   "metadata": {},
   "outputs": [],
   "source": [
    "# Instantiate the class\n",
    "stat_test = StatisticalTest()"
   ]
  },
  {
   "cell_type": "markdown",
   "id": "c957eb28",
   "metadata": {},
   "source": [
    "# Section 1. Data Exploration"
   ]
  },
  {
   "cell_type": "markdown",
   "id": "620aaf1a",
   "metadata": {},
   "source": [
    "## 1.1. Load data\n",
    "Here, I load the csv file as a pandas dataframe and check the size of the data"
   ]
  },
  {
   "cell_type": "code",
   "execution_count": 4,
   "id": "f7dc1b48",
   "metadata": {},
   "outputs": [
    {
     "name": "stdout",
     "output_type": "stream",
     "text": [
      "Data size = (11388, 3)\n"
     ]
    },
    {
     "data": {
      "text/html": [
       "<div>\n",
       "<style scoped>\n",
       "    .dataframe tbody tr th:only-of-type {\n",
       "        vertical-align: middle;\n",
       "    }\n",
       "\n",
       "    .dataframe tbody tr th {\n",
       "        vertical-align: top;\n",
       "    }\n",
       "\n",
       "    .dataframe thead th {\n",
       "        text-align: right;\n",
       "    }\n",
       "</style>\n",
       "<table border=\"1\" class=\"dataframe\">\n",
       "  <thead>\n",
       "    <tr style=\"text-align: right;\">\n",
       "      <th></th>\n",
       "      <th>group</th>\n",
       "      <th>phone_os_ty</th>\n",
       "      <th>revenue</th>\n",
       "    </tr>\n",
       "  </thead>\n",
       "  <tbody>\n",
       "    <tr>\n",
       "      <th>0</th>\n",
       "      <td>Control</td>\n",
       "      <td>iOS</td>\n",
       "      <td>0.0007</td>\n",
       "    </tr>\n",
       "    <tr>\n",
       "      <th>1</th>\n",
       "      <td>Treatment</td>\n",
       "      <td>iOS</td>\n",
       "      <td>0.1615</td>\n",
       "    </tr>\n",
       "    <tr>\n",
       "      <th>2</th>\n",
       "      <td>Control</td>\n",
       "      <td>Android</td>\n",
       "      <td>7.9911</td>\n",
       "    </tr>\n",
       "    <tr>\n",
       "      <th>3</th>\n",
       "      <td>Treatment</td>\n",
       "      <td>iOS</td>\n",
       "      <td>21.4001</td>\n",
       "    </tr>\n",
       "    <tr>\n",
       "      <th>4</th>\n",
       "      <td>Control</td>\n",
       "      <td>iOS</td>\n",
       "      <td>1.6326</td>\n",
       "    </tr>\n",
       "  </tbody>\n",
       "</table>\n",
       "</div>"
      ],
      "text/plain": [
       "       group phone_os_ty  revenue\n",
       "0    Control         iOS   0.0007\n",
       "1  Treatment         iOS   0.1615\n",
       "2    Control     Android   7.9911\n",
       "3  Treatment         iOS  21.4001\n",
       "4    Control         iOS   1.6326"
      ]
     },
     "execution_count": 4,
     "metadata": {},
     "output_type": "execute_result"
    }
   ],
   "source": [
    "df = pd.read_csv('../data/rev_data.csv')\n",
    "print('Data size = {}'.format(df.shape))\n",
    "df.head()"
   ]
  },
  {
   "cell_type": "markdown",
   "id": "cad07d6f",
   "metadata": {},
   "source": [
    "## 1.2. Data types\n",
    "The data type for each column is displayed below"
   ]
  },
  {
   "cell_type": "code",
   "execution_count": 5,
   "id": "93de278a",
   "metadata": {},
   "outputs": [
    {
     "name": "stdout",
     "output_type": "stream",
     "text": [
      "<class 'pandas.core.frame.DataFrame'>\n",
      "RangeIndex: 11388 entries, 0 to 11387\n",
      "Data columns (total 3 columns):\n",
      " #   Column       Non-Null Count  Dtype  \n",
      "---  ------       --------------  -----  \n",
      " 0   group        11388 non-null  object \n",
      " 1   phone_os_ty  11388 non-null  object \n",
      " 2   revenue      11388 non-null  float64\n",
      "dtypes: float64(1), object(2)\n",
      "memory usage: 267.0+ KB\n"
     ]
    }
   ],
   "source": [
    "df.info()"
   ]
  },
  {
   "cell_type": "markdown",
   "id": "71f5961b",
   "metadata": {},
   "source": [
    "## 1.3. Data exploration by treatment\n",
    "The distribution of revenue is highly right skewed as expected, since some customers spent more than others. Therefore, I have transformed it by log base 10. The mean of revenue (i.e., revenue-per-user) in the treatment group is higher than the control group. I need to establish if the difference is statistically significant. "
   ]
  },
  {
   "cell_type": "code",
   "execution_count": 6,
   "id": "c13b18d9",
   "metadata": {},
   "outputs": [
    {
     "data": {
      "text/html": [
       "<div>\n",
       "<style scoped>\n",
       "    .dataframe tbody tr th:only-of-type {\n",
       "        vertical-align: middle;\n",
       "    }\n",
       "\n",
       "    .dataframe tbody tr th {\n",
       "        vertical-align: top;\n",
       "    }\n",
       "\n",
       "    .dataframe thead th {\n",
       "        text-align: right;\n",
       "    }\n",
       "</style>\n",
       "<table border=\"1\" class=\"dataframe\">\n",
       "  <thead>\n",
       "    <tr style=\"text-align: right;\">\n",
       "      <th></th>\n",
       "      <th>group</th>\n",
       "      <th>count</th>\n",
       "      <th>percentage</th>\n",
       "    </tr>\n",
       "  </thead>\n",
       "  <tbody>\n",
       "    <tr>\n",
       "      <th>0</th>\n",
       "      <td>Treatment</td>\n",
       "      <td>5694</td>\n",
       "      <td>50.0</td>\n",
       "    </tr>\n",
       "    <tr>\n",
       "      <th>1</th>\n",
       "      <td>Control</td>\n",
       "      <td>5694</td>\n",
       "      <td>50.0</td>\n",
       "    </tr>\n",
       "  </tbody>\n",
       "</table>\n",
       "</div>"
      ],
      "text/plain": [
       "       group  count  percentage\n",
       "0  Treatment   5694        50.0\n",
       "1    Control   5694        50.0"
      ]
     },
     "execution_count": 6,
     "metadata": {},
     "output_type": "execute_result"
    }
   ],
   "source": [
    "label_pct = df.group.value_counts(normalize = True)*100\n",
    "label = df.group.value_counts()\n",
    "pd.DataFrame({'group':label.index, 'count':label.values, 'percentage':label_pct.values})"
   ]
  },
  {
   "cell_type": "code",
   "execution_count": 7,
   "id": "22b5c3a3",
   "metadata": {},
   "outputs": [
    {
     "name": "stdout",
     "output_type": "stream",
     "text": [
      "Statistics for the treament group\n",
      "------------------------------\n"
     ]
    },
    {
     "data": {
      "text/html": [
       "<div>\n",
       "<style scoped>\n",
       "    .dataframe tbody tr th:only-of-type {\n",
       "        vertical-align: middle;\n",
       "    }\n",
       "\n",
       "    .dataframe tbody tr th {\n",
       "        vertical-align: top;\n",
       "    }\n",
       "\n",
       "    .dataframe thead th {\n",
       "        text-align: right;\n",
       "    }\n",
       "</style>\n",
       "<table border=\"1\" class=\"dataframe\">\n",
       "  <thead>\n",
       "    <tr style=\"text-align: right;\">\n",
       "      <th></th>\n",
       "      <th>revenue</th>\n",
       "    </tr>\n",
       "  </thead>\n",
       "  <tbody>\n",
       "    <tr>\n",
       "      <th>count</th>\n",
       "      <td>5694.000000</td>\n",
       "    </tr>\n",
       "    <tr>\n",
       "      <th>mean</th>\n",
       "      <td>504.648824</td>\n",
       "    </tr>\n",
       "    <tr>\n",
       "      <th>std</th>\n",
       "      <td>6129.406674</td>\n",
       "    </tr>\n",
       "    <tr>\n",
       "      <th>min</th>\n",
       "      <td>0.000200</td>\n",
       "    </tr>\n",
       "    <tr>\n",
       "      <th>25%</th>\n",
       "      <td>1.113875</td>\n",
       "    </tr>\n",
       "    <tr>\n",
       "      <th>50%</th>\n",
       "      <td>3.135900</td>\n",
       "    </tr>\n",
       "    <tr>\n",
       "      <th>75%</th>\n",
       "      <td>8.748700</td>\n",
       "    </tr>\n",
       "    <tr>\n",
       "      <th>max</th>\n",
       "      <td>288590.197500</td>\n",
       "    </tr>\n",
       "  </tbody>\n",
       "</table>\n",
       "</div>"
      ],
      "text/plain": [
       "             revenue\n",
       "count    5694.000000\n",
       "mean      504.648824\n",
       "std      6129.406674\n",
       "min         0.000200\n",
       "25%         1.113875\n",
       "50%         3.135900\n",
       "75%         8.748700\n",
       "max    288590.197500"
      ]
     },
     "execution_count": 7,
     "metadata": {},
     "output_type": "execute_result"
    }
   ],
   "source": [
    "print('Statistics for the treament group')\n",
    "print('-'*30)\n",
    "df[df.group == 'Treatment'].describe()"
   ]
  },
  {
   "cell_type": "code",
   "execution_count": 8,
   "id": "4153429f",
   "metadata": {},
   "outputs": [
    {
     "name": "stdout",
     "output_type": "stream",
     "text": [
      "Statistics for the control group\n",
      "------------------------------\n"
     ]
    },
    {
     "data": {
      "text/html": [
       "<div>\n",
       "<style scoped>\n",
       "    .dataframe tbody tr th:only-of-type {\n",
       "        vertical-align: middle;\n",
       "    }\n",
       "\n",
       "    .dataframe tbody tr th {\n",
       "        vertical-align: top;\n",
       "    }\n",
       "\n",
       "    .dataframe thead th {\n",
       "        text-align: right;\n",
       "    }\n",
       "</style>\n",
       "<table border=\"1\" class=\"dataframe\">\n",
       "  <thead>\n",
       "    <tr style=\"text-align: right;\">\n",
       "      <th></th>\n",
       "      <th>revenue</th>\n",
       "    </tr>\n",
       "  </thead>\n",
       "  <tbody>\n",
       "    <tr>\n",
       "      <th>count</th>\n",
       "      <td>5694.000000</td>\n",
       "    </tr>\n",
       "    <tr>\n",
       "      <th>mean</th>\n",
       "      <td>385.739821</td>\n",
       "    </tr>\n",
       "    <tr>\n",
       "      <th>std</th>\n",
       "      <td>2684.739511</td>\n",
       "    </tr>\n",
       "    <tr>\n",
       "      <th>min</th>\n",
       "      <td>0.000100</td>\n",
       "    </tr>\n",
       "    <tr>\n",
       "      <th>25%</th>\n",
       "      <td>1.595100</td>\n",
       "    </tr>\n",
       "    <tr>\n",
       "      <th>50%</th>\n",
       "      <td>4.493850</td>\n",
       "    </tr>\n",
       "    <tr>\n",
       "      <th>75%</th>\n",
       "      <td>14.691825</td>\n",
       "    </tr>\n",
       "    <tr>\n",
       "      <th>max</th>\n",
       "      <td>89626.301700</td>\n",
       "    </tr>\n",
       "  </tbody>\n",
       "</table>\n",
       "</div>"
      ],
      "text/plain": [
       "            revenue\n",
       "count   5694.000000\n",
       "mean     385.739821\n",
       "std     2684.739511\n",
       "min        0.000100\n",
       "25%        1.595100\n",
       "50%        4.493850\n",
       "75%       14.691825\n",
       "max    89626.301700"
      ]
     },
     "execution_count": 8,
     "metadata": {},
     "output_type": "execute_result"
    }
   ],
   "source": [
    "print('Statistics for the control group')\n",
    "print('-'*30)\n",
    "df[df.group == 'Control'].describe()"
   ]
  },
  {
   "cell_type": "code",
   "execution_count": 9,
   "id": "0a704fdc",
   "metadata": {},
   "outputs": [
    {
     "data": {
      "image/png": "[encoded data removed]",
      "text/plain": [
       "<Figure size 576x432 with 1 Axes>"
      ]
     },
     "metadata": {
      "needs_background": "light"
     },
     "output_type": "display_data"
    }
   ],
   "source": [
    "fig, ax = plt.subplots(figsize = (8,6))\n",
    "\n",
    "# Log distribution of budget and spend\n",
    "np.log10(df[df.group == 'Control'].revenue).hist(bins = 50, ax = ax, color = 'orangered', \n",
    "                                                               label = 'Control')\n",
    "np.log10(df[df.group == 'Treatment'].revenue).hist(bins = 50, ax = ax, color = 'green', \n",
    "                                                               label = 'Treatment')\n",
    "# axes labels\n",
    "plt.title('Distribution of revenue')\n",
    "plt.xlabel('Revenue (logscale)')\n",
    "plt.legend(loc = 'best')\n",
    "plt.savefig('../images/fig1.png')\n",
    "plt.show()"
   ]
  },
  {
   "cell_type": "markdown",
   "id": "9d6834b1",
   "metadata": {},
   "source": [
    "## 1.4. Data exploration by segmenting phone operating systems\n",
    "The distributions below show segmentation by phone operating systems within the treatment and control groups. The results show disproportionality in the number of users (customers) and total revenue across the phone operating systems. \n",
    "\n",
    "In practice, any interesting feature in the data should be investigated by invoking the Twyman's law. For instance, one might want to investigate if the new feature is compactible with different phone operating systems."
   ]
  },
  {
   "cell_type": "code",
   "execution_count": 10,
   "id": "1a206dd0",
   "metadata": {},
   "outputs": [
    {
     "name": "stdout",
     "output_type": "stream",
     "text": [
      "Mean revenue (revenue-per-user) in the treatment & control groups\n",
      "--------------------------------------------------\n"
     ]
    },
    {
     "data": {
      "text/html": [
       "<div>\n",
       "<style scoped>\n",
       "    .dataframe tbody tr th:only-of-type {\n",
       "        vertical-align: middle;\n",
       "    }\n",
       "\n",
       "    .dataframe tbody tr th {\n",
       "        vertical-align: top;\n",
       "    }\n",
       "\n",
       "    .dataframe thead th {\n",
       "        text-align: right;\n",
       "    }\n",
       "</style>\n",
       "<table border=\"1\" class=\"dataframe\">\n",
       "  <thead>\n",
       "    <tr style=\"text-align: right;\">\n",
       "      <th></th>\n",
       "      <th></th>\n",
       "      <th>revenue</th>\n",
       "    </tr>\n",
       "    <tr>\n",
       "      <th>group</th>\n",
       "      <th>phone_os_ty</th>\n",
       "      <th></th>\n",
       "    </tr>\n",
       "  </thead>\n",
       "  <tbody>\n",
       "    <tr>\n",
       "      <th rowspan=\"3\" valign=\"top\">Control</th>\n",
       "      <th>Android</th>\n",
       "      <td>698.275112</td>\n",
       "    </tr>\n",
       "    <tr>\n",
       "      <th>Windows</th>\n",
       "      <td>199.867440</td>\n",
       "    </tr>\n",
       "    <tr>\n",
       "      <th>iOS</th>\n",
       "      <td>236.129597</td>\n",
       "    </tr>\n",
       "    <tr>\n",
       "      <th rowspan=\"3\" valign=\"top\">Treatment</th>\n",
       "      <th>Android</th>\n",
       "      <td>643.610171</td>\n",
       "    </tr>\n",
       "    <tr>\n",
       "      <th>Windows</th>\n",
       "      <td>337.548460</td>\n",
       "    </tr>\n",
       "    <tr>\n",
       "      <th>iOS</th>\n",
       "      <td>460.594163</td>\n",
       "    </tr>\n",
       "  </tbody>\n",
       "</table>\n",
       "</div>"
      ],
      "text/plain": [
       "                          revenue\n",
       "group     phone_os_ty            \n",
       "Control   Android      698.275112\n",
       "          Windows      199.867440\n",
       "          iOS          236.129597\n",
       "Treatment Android      643.610171\n",
       "          Windows      337.548460\n",
       "          iOS          460.594163"
      ]
     },
     "execution_count": 10,
     "metadata": {},
     "output_type": "execute_result"
    }
   ],
   "source": [
    "print('Mean revenue (revenue-per-user) in the treatment & control groups')\n",
    "print('-'*50)\n",
    "df.pivot_table('revenue', index =['group','phone_os_ty'], aggfunc = 'mean')"
   ]
  },
  {
   "cell_type": "code",
   "execution_count": 11,
   "id": "e56adf86",
   "metadata": {},
   "outputs": [
    {
     "data": {
      "image/png": "[encoded data removed]",
      "text/plain": [
       "<Figure size 1440x504 with 2 Axes>"
      ]
     },
     "metadata": {
      "needs_background": "light"
     },
     "output_type": "display_data"
    }
   ],
   "source": [
    "fig, (ax1, ax2) = plt.subplots(1,2, figsize = (20,7))\n",
    "\n",
    "# plots\n",
    "p3 = pd.crosstab(values = df['revenue'],index = df['group'],\n",
    "                 columns = df['phone_os_ty'],aggfunc = 'sum')\n",
    "p4 = pd.crosstab(values = df['revenue'],index = df['group'],\n",
    "                 columns = df['phone_os_ty'],aggfunc = 'sum',\n",
    "                 normalize = 'columns')\n",
    "p3.plot(kind = 'bar', ax = ax1)\n",
    "p4.plot(kind = 'bar', ax = ax2)\n",
    "\n",
    "# axes labels\n",
    "label = ['0%', '10%', '20%', '30%', '40%','50%', '60%', '70%']\n",
    "label_ = ['0', '0.25M', '0.5M', '0.75M', '1M', '1.25M', '1.5M']\n",
    "ax1.set_title('Total revenue by phone OS system')\n",
    "ax1.set_ylabel('Total revenue in millions')\n",
    "ax1.set_yticks(np.arange(0,1.6*10**6, 0.25*10**6))\n",
    "ax1.set_yticklabels(label_)\n",
    "ax1.set_xticklabels(['Control', 'Treatment'], rotation = 45)\n",
    "ax2.set_title('Percentage of revenue  in each variant')\n",
    "ax2.set_ylabel('Percentage of revenue')\n",
    "ax2.set_yticklabels(label)\n",
    "ax2.set_xticklabels(['Control', 'Treatment'], rotation = 45)\n",
    "plt.savefig('../images/fig2.png')\n",
    "plt.show()"
   ]
  },
  {
   "cell_type": "code",
   "execution_count": 31,
   "id": "8cc3dacc",
   "metadata": {},
   "outputs": [
    {
     "data": {
      "image/png": "[encoded data removed]",
      "text/plain": [
       "<Figure size 1440x504 with 2 Axes>"
      ]
     },
     "metadata": {
      "needs_background": "light"
     },
     "output_type": "display_data"
    }
   ],
   "source": [
    "fig, (ax1, ax2) = plt.subplots(1,2, figsize = (20,7))\n",
    "\n",
    "# plots\n",
    "p1 = df.pivot_table('revenue', index = 'phone_os_ty', \n",
    "             columns = 'group',aggfunc = 'count')\n",
    "p2 = pd.crosstab(values = df['revenue'],index = df['group'],\n",
    "                 columns = df['phone_os_ty'],aggfunc = 'count', \n",
    "                 normalize = 'columns')\n",
    "p1.plot(kind = 'bar', ax = ax1)\n",
    "p2.plot(kind = 'bar', ax = ax2)\n",
    "\n",
    "# axes labels\n",
    "label1 = ['0%', '10%', '20%', '30%', '40%', '50%', '60%']\n",
    "label2 = ['Android', 'Windows', 'iOS']\n",
    "ax1.set_ylabel('Number of users (customers)')\n",
    "ax1.set_xticklabels(label2, rotation = 45)\n",
    "ax1.set_title('Number of customers by phone OS type')\n",
    "ax2.set_ylabel('Percentage of users (customers)')\n",
    "ax2.set_yticks(np.arange(0,0.7,0.1))\n",
    "ax2.set_yticklabels(label1)\n",
    "ax2.set_xticklabels(['Control', 'Treatment'], rotation = 45)\n",
    "ax2.legend(loc = 9)\n",
    "ax2.set_title('Percentage of customers in each variant')\n",
    "plt.savefig('../images/fig3.png')\n",
    "plt.show()"
   ]
  },
  {
   "cell_type": "code",
   "execution_count": 13,
   "id": "f4d70a15",
   "metadata": {},
   "outputs": [
    {
     "data": {
      "image/png": "[encoded data removed]",
      "text/plain": [
       "<Figure size 1440x504 with 2 Axes>"
      ]
     },
     "metadata": {
      "needs_background": "light"
     },
     "output_type": "display_data"
    }
   ],
   "source": [
    "fig, (ax1, ax2) = plt.subplots(1,2, figsize = (20,7))\n",
    "\n",
    "# Log distribution of ARPU in treament group\n",
    "np.log10(df[(df.phone_os_ty == 'Android') & (df.group == 'Treatment')].revenue)\\\n",
    ".hist(bins = 50, ax = ax1, color = 'orangered', label = 'Android')\n",
    "np.log10(df[(df.phone_os_ty == 'Windows')& (df.group == 'Treatment')].revenue)\\\n",
    ".hist(bins = 50, ax = ax1, color = 'green', label = 'Windows')\n",
    "np.log10(df[(df.phone_os_ty == 'iOS')& (df.group == 'Treatment')].revenue)\\\n",
    ".hist(bins = 50, ax = ax1, alpha = 0.3, label = 'iOS',color = 'red')\n",
    "\n",
    "# Log distribution of ARPU in control group\n",
    "np.log10(df[(df.phone_os_ty == 'Android') & (df.group == 'Control')].revenue)\\\n",
    ".hist(bins = 50, ax = ax2, color = 'orangered', label = 'Android')\n",
    "np.log10(df[(df.phone_os_ty == 'Windows')& (df.group == 'Control')].revenue)\\\n",
    ".hist(bins = 50, ax = ax2, color = 'green', label = 'Windows')\n",
    "np.log10(df[(df.phone_os_ty == 'iOS')& (df.group == 'Control')].revenue)\\\n",
    ".hist(bins = 50, ax = ax2, alpha = 0.3, label = 'iOS',color = 'red')\n",
    "\n",
    "# axes labels\n",
    "ax1.set_title('Distribution of revenue in the treatment group')\n",
    "ax1.set_xlabel('Revenue (logscale)')\n",
    "ax1.legend(loc = 'best')\n",
    "ax2.set_title('Distribution of revenue in the control group')\n",
    "ax2.set_xlabel('Revenue (logscale)')\n",
    "ax2.legend(loc = 'best')\n",
    "plt.savefig('../images/fig4.png')\n",
    "plt.show()"
   ]
  },
  {
   "cell_type": "markdown",
   "id": "04aa396a",
   "metadata": {
    "tags": []
   },
   "source": [
    "# Section 2. Two-Sample Student's T-Test\n",
    "In this section, I will perform a 2-sample Student's t-tests. The Student's t-test is based upon the  following assumptions:\n",
    "\n",
    "1). Normality: The treatement and control samples were drawn from two normally distributed populations.\n",
    "\n",
    "2). Homoscedasticity: The population variances are equal and unknown, i.e., $\\sigma_1^2=\\sigma_2^2=\\sigma^2$.\n",
    "\n",
    "3). Independence or stable unit treatment value assumption (SUTVA): The outcome of any unit (e.g., customer) in the experiment is not affected by the treatment of any other  unit. In other words, the treatement and control samples are independent.\n",
    "\n",
    "Next, we formulate the hypotheses:\n",
    "\n",
    "\\begin{equation}\n",
    "H_0: \\mu_1 = \\mu_2 \\quad \\text{verse}\\quad H_1: \\mu_1 \\neq \\mu_2,\n",
    "\\end{equation}\n",
    "\n",
    "where $\\mu_1, \\mu_2$ are the two populations means. The null hypothesis ($H_0$) states that the mean values of the two populations are the same, whereas the alternative hypothesis ($H_1$) states the mean values of the two populations are different. The goal of the hypothesis test is to decide, based on the treatment and control samples, which of the two hypotheses is true. If our result leads to the rejection of $H_0$, we conclude that there is statistically significant difference between the two populations (or samples). In other words, there is statistically significant treatement effect.\n",
    "\n",
    "The test statistic is defined as:\n",
    "\n",
    "$$t = \\frac{\\bar{x}_2-\\bar{x}_1}{se(\\bar{x}_1-\\bar{x}_2)},$$\n",
    "\n",
    "where $\\bar{x}_1$ and $\\bar{x}_2$ are the revenue-per-user in the treatment and control groups repectively. Here, $\\hat{\\delta} = \\bar{x}_1-\\bar{x}_2$ is the estimate of $\\delta = \\mu_1-\\mu_2$, and $se(\\bar{x}_1-\\bar{x}_2)$ is the standard error of $\\hat{\\delta}$, given by\n",
    "\n",
    "$$ se(\\bar{x}_1-\\bar{x}_2) = s_{\\text{pooled}}\\sqrt{\\frac{1}{n_1}+\\frac{1}{n_2}},$$\n",
    "\n",
    "where $s_{\\text{pooled}}^2$ is the pooled variance estimate of $\\sigma^2$, given by\n",
    "$$ s_{\\text{pooled}}^2 = \\frac{(n_1-1)s_1^2 + (n_2-1)s_2^2}{n_1+n_2-2}.$$\n",
    "\n",
    "Here, $s_1^2,s_2^2$ are the sample variances of the treatment and control samples (i.e., the estimate of $\\sigma_1^2, \\sigma_2^2$), and $n_1, n_2$ are the respective number of samples. Under the null hypothesis $H_0$, the test statistic follows a t-distribution with $n_1+n_2-2$ degrees of freedom.\n",
    "\n",
    "We compute the p-value, which is the probability of observing a value equal to $|t|$ or larger, assuming that the null hypothesis is true. We pick a significance level $\\alpha =0.05$ and if $\\text{p-value} \\leq  \\alpha$, we conclude that the test result is statistically significant."
   ]
  },
  {
   "cell_type": "markdown",
   "id": "1fde7f3c",
   "metadata": {},
   "source": [
    "## 2.1. Overall treatment effect\n",
    "Let's consider the overall treatment effect for all customers to determine if there is a statistically significant treatment effect. The result below shows a $\\text{p-value} = 0.18 > 0.05$, which is greater that the significance level. Therefore, the data is not enough to make any conclusion overall."
   ]
  },
  {
   "cell_type": "code",
   "execution_count": 14,
   "id": "2d2dc09e",
   "metadata": {},
   "outputs": [],
   "source": [
    "df_contr = df[df.group == 'Control'] # control group\n",
    "df_treat = df[df.group == 'Treatment'] # treatment group"
   ]
  },
  {
   "cell_type": "code",
   "execution_count": 15,
   "id": "b658e592",
   "metadata": {},
   "outputs": [
    {
     "name": "stdout",
     "output_type": "stream",
     "text": [
      "The test statistic overall = 1.34089\n",
      "The p-value overall = 0.179982\n"
     ]
    }
   ],
   "source": [
    "# compute test-statistic and p-value\n",
    "t_all, pval = stat_test.student_ttest(df_treat.revenue, df_contr.revenue)\n",
    "print('The test statistic overall = {0:.6g}'.format(t_all))\n",
    "print('The p-value overall = {0:.6g}'.format(pval))"
   ]
  },
  {
   "cell_type": "markdown",
   "id": "265eb0d3",
   "metadata": {},
   "source": [
    "## 2.2. Segmented treatment effect by phone operating systems"
   ]
  },
  {
   "cell_type": "markdown",
   "id": "056cbddb",
   "metadata": {},
   "source": [
    "The analysis below shows that across the three phone operating systems, only iOS has a $\\text{p-value}< 0.05$. Therefore, for iOS the null hypothesis is rejected and we conclude that there is a statistically significant treatment effect. These results suggest that the new feature was effective at increasing revenue for customers using the iOS phones. For Android and Windows OS, there is not enough data to make any conclusion."
   ]
  },
  {
   "cell_type": "markdown",
   "id": "71be3869",
   "metadata": {},
   "source": [
    "## 2.2.1. Android treatment effect"
   ]
  },
  {
   "cell_type": "code",
   "execution_count": 16,
   "id": "4def66b1",
   "metadata": {},
   "outputs": [],
   "source": [
    "df_contr_android = df[(df.group == 'Control') &(df.phone_os_ty == 'Android')]  # control group\n",
    "df_treat_android = df[(df.group == 'Treatment')  & (df.phone_os_ty == 'Android')] # treatment group"
   ]
  },
  {
   "cell_type": "code",
   "execution_count": 17,
   "id": "c7640f8f",
   "metadata": {},
   "outputs": [
    {
     "name": "stdout",
     "output_type": "stream",
     "text": [
      "The test statistic for Android OS = -0.256722\n",
      "The p-value for large Android OS = 0.797408\n"
     ]
    }
   ],
   "source": [
    "# compute test-statistic and p-value\n",
    "t_android, pval = stat_test.student_ttest(df_treat_android.revenue, df_contr_android.revenue)\n",
    "print('The test statistic for Android OS = {0:.6g}'.format(t_android))\n",
    "print('The p-value for large Android OS = {0:.6g}'.format(pval))"
   ]
  },
  {
   "cell_type": "markdown",
   "id": "12e5d2e7",
   "metadata": {},
   "source": [
    "## 2.2.2. Windows treatment effect"
   ]
  },
  {
   "cell_type": "code",
   "execution_count": 18,
   "id": "73dc574b",
   "metadata": {},
   "outputs": [],
   "source": [
    "df_contr_windows = df[(df.group == 'Control') &(df.phone_os_ty == 'Windows')] # control group\n",
    "df_treat_windows = df[(df.group == 'Treatment') & (df.phone_os_ty == 'Windows')] # treatment group"
   ]
  },
  {
   "cell_type": "code",
   "execution_count": 19,
   "id": "f0a4974f",
   "metadata": {},
   "outputs": [
    {
     "name": "stdout",
     "output_type": "stream",
     "text": [
      "The test statistic for Windows OS = 0.962203\n",
      "The p-value for Windows OS = 0.336188\n"
     ]
    }
   ],
   "source": [
    "# compute test-statistic and p-value\n",
    "t_windows, pval = stat_test.student_ttest(df_treat_windows.revenue,df_contr_windows.revenue)\n",
    "print('The test statistic for Windows OS = {0:.6g}'.format(t_windows))\n",
    "print('The p-value for Windows OS = {0:.6g}'.format(pval))"
   ]
  },
  {
   "cell_type": "markdown",
   "id": "31015d77",
   "metadata": {},
   "source": [
    "## 2.2.3. iOS treatment effect"
   ]
  },
  {
   "cell_type": "code",
   "execution_count": 20,
   "id": "407df720",
   "metadata": {},
   "outputs": [],
   "source": [
    "df_contr_ios = df[(df.group == 'Control') &(df.phone_os_ty == 'iOS')] # control group\n",
    "df_treat_ios = df[(df.group == 'Treatment') & (df.phone_os_ty == 'iOS')] # treatment group"
   ]
  },
  {
   "cell_type": "code",
   "execution_count": 21,
   "id": "15df6516",
   "metadata": {},
   "outputs": [
    {
     "name": "stdout",
     "output_type": "stream",
     "text": [
      "The test statistic for iOS = 2.36338\n",
      "The p-value for iOS = 0.0181371\n"
     ]
    }
   ],
   "source": [
    "# compute test-statistic and p-value\n",
    "t_ios, pval = stat_test.student_ttest(df_treat_ios.revenue, df_contr_ios.revenue)\n",
    "print('The test statistic for iOS = {0:.6g}'.format(t_ios))\n",
    "print('The p-value for iOS = {0:.6g}'.format(pval))"
   ]
  },
  {
   "cell_type": "markdown",
   "id": "672de2fa",
   "metadata": {},
   "source": [
    "# Section 3. Two-Sample Welch's T-Test\n",
    "In this section, I will perform a 2-sample Welch's t-tests. The Welch's t-test is based upon the following assumptions:\n",
    "\n",
    "1). Normality: The treatement and control samples were drawn from two normally distributed populations.\n",
    "\n",
    "2). Heteroscedasticity: The population variances are not equal, and they are unknown, i.e., $\\sigma_1^2\\neq \\sigma_2^2$. \n",
    "\n",
    "3). Independence or stable unit treatment value assumption (SUTVA): The outcome of any unit (e.g., customer) in the experiment is not affected by the treatment of any other  unit. In other words, the treatement and control samples are independent.\n",
    "\n",
    "The hypotheses statements are the same as in Section 2, but the standard error in the  test statistic is now defined as\n",
    "\n",
    "$$ se(\\bar{x}_2-\\bar{x}_1) = \\sqrt{\\frac{s_1^2}{n_1}+\\frac{s_1^2}{n_2}},$$\n",
    "\n",
    "where $s_1^2,s_2^2$ are the sample variances of the treatment and control samples (i.e., the estimate of $\\sigma_1^2, \\sigma_2^2$), and $n_1, n_2$ are the respective number of samples.\n",
    "\n",
    "The exact distribution of test statistic in this case is  very complex. However, it can be approximated to a t-distribution with $\\nu$ degrees of freedom,  given by\n",
    "\n",
    "\\begin{equation}\n",
    "\\nu \\approx \\frac{\\Big(\\frac{s_1^2}{n_1} + \\frac{s_2^2}{n_2}\\Big)^2}{\\frac{s_1^4}{n_1^2(n_1-1)} + \\frac{s_2^4}{n_2^2(n_2-1)}}.\n",
    "\\end{equation}\n",
    "\n",
    "Note that $\\nu$ is generally non-integer unlike the Student's degrees of freedom. "
   ]
  },
  {
   "cell_type": "markdown",
   "id": "b135e1e7",
   "metadata": {},
   "source": [
    "## 3.1. Overall treatment effect\n",
    "Due to large sample size, the Student's and Welch's t-tests yield similar results and the same conclusion. That is $\\text{p-value} = 0.18 > 0.05$. Therefore, the data is not enough to make any conclusion overall."
   ]
  },
  {
   "cell_type": "code",
   "execution_count": 22,
   "id": "99ef20ac",
   "metadata": {},
   "outputs": [
    {
     "name": "stdout",
     "output_type": "stream",
     "text": [
      "The test statistic overall = 1.34089\n",
      "The p-value overall = 0.179995\n"
     ]
    }
   ],
   "source": [
    "# compute test-statistic and p-value\n",
    "t_all, pval = stat_test.welch_ttest(df_treat.revenue,\n",
    "                                      df_contr.revenue)\n",
    "print('The test statistic overall = {0:.6g}'.format(t_all))\n",
    "print('The p-value overall = {0:.6g}'.format(pval))"
   ]
  },
  {
   "cell_type": "markdown",
   "id": "4ed1757d",
   "metadata": {},
   "source": [
    "## 3.2. Segmented treatment effect by phone operating systems\n",
    "Here, I reached the same conclusion as in the Student's t-test."
   ]
  },
  {
   "cell_type": "markdown",
   "id": "e1d95aa7",
   "metadata": {},
   "source": [
    "## 3.2.1. Android treatment effect"
   ]
  },
  {
   "cell_type": "code",
   "execution_count": 23,
   "id": "c74df1f4",
   "metadata": {},
   "outputs": [
    {
     "name": "stdout",
     "output_type": "stream",
     "text": [
      "The test statistic for Android OS = -0.248985\n",
      "The p-value for large Android OS = 0.803393\n"
     ]
    }
   ],
   "source": [
    "# compute test-statistic and p-value\n",
    "t_android, pval = stat_test.welch_ttest(df_treat_android.revenue, df_contr_android.revenue)\n",
    "print('The test statistic for Android OS = {0:.6g}'.format(t_android))\n",
    "print('The p-value for large Android OS = {0:.6g}'.format(pval))"
   ]
  },
  {
   "cell_type": "markdown",
   "id": "0058fd58",
   "metadata": {},
   "source": [
    "## 3.2.2. Windows treatment effect"
   ]
  },
  {
   "cell_type": "code",
   "execution_count": 24,
   "id": "b3c89758",
   "metadata": {},
   "outputs": [
    {
     "name": "stdout",
     "output_type": "stream",
     "text": [
      "The test statistic for Windows OS = 0.957107\n",
      "The p-value for Windows OS = 0.338785\n"
     ]
    }
   ],
   "source": [
    "# compute test-statistic and p-value\n",
    "t_windows, pval = stat_test.welch_ttest(df_treat_windows.revenue, df_contr_windows.revenue)\n",
    "print('The test statistic for Windows OS = {0:.6g}'.format(t_windows))\n",
    "print('The p-value for Windows OS = {0:.6g}'.format(pval))"
   ]
  },
  {
   "cell_type": "markdown",
   "id": "b804bb7d",
   "metadata": {},
   "source": [
    "## 3.2.3. iOS treatment effect"
   ]
  },
  {
   "cell_type": "code",
   "execution_count": 25,
   "id": "11b8c519",
   "metadata": {},
   "outputs": [
    {
     "name": "stdout",
     "output_type": "stream",
     "text": [
      "The test statistic for iOS = 2.42672\n",
      "The p-value for iOS = 0.0152799\n"
     ]
    }
   ],
   "source": [
    "# compute test-statistic and p-value\n",
    "t_ios, pval = stat_test.welch_ttest(df_treat_ios.revenue, df_contr_ios.revenue)\n",
    "print('The test statistic for iOS = {0:.6g}'.format(t_ios))\n",
    "print('The p-value for iOS = {0:.6g}'.format(pval))"
   ]
  },
  {
   "cell_type": "markdown",
   "id": "52c33e4b",
   "metadata": {},
   "source": [
    "# Section 4. The Mann-Whitney U Test\n",
    "The parametric t-tests (Student and Welch) used above made some assumptions in advance about the population from which the treatment and control samples were drawn. Clearly, we can saw that those assumptions were not valid in the current sample data. Therefore, we should resort to a non-parameter test in which there is no assumption about nature of the population from which the treatment and control samples were drawn. However, we still require that SUTVA or indenpendence assumption holds. \n",
    "\n",
    "The Mann-Whitney U Test is a good non-parameter test to use. The U statistic is defined as\n",
    "\n",
    "$$\n",
    "U_1 = n_1n_2 + \\frac{ n_1(n_1+1)}{2} - R_1 \\quad \\text{and} \\quad\n",
    "U_2 = n_1n_2 + \\frac{ n_2(n_2+1)}{2} - R_2,\n",
    "$$\n",
    "\n",
    "where  $R_1$ is the sum of the ranks  assigned to sample 1 (i.e., sum of the indexes assigned to the observations after sorting the combined samples), and $R_2$ is the sum of the ranks assigned to sample 2. Here, $U_1$  is the  number of times an  $x_1^i$ from sample 1 is greater than an  $x_2^i$ from sample 2. Similarly,  $U_2$  is the  number of times an  $x_1^i$ from sample 1 is smaller than an  $x_2^i$  from sample 2.\n",
    "\n",
    "Due to large sample sizes in the present problem, a normal approximation can be used by defining:\n",
    "\n",
    "$$\n",
    "\\mu_U = \\frac{n_1n_2}{2},\\quad \\sigma_U =\\sqrt{\\Big(  \\frac{n_1n_2}{N\\big(N-1\\big)}\\Big)\\Big(  \\frac{N^3 -N}{12} - \\sum_{j}^{n_s}\\frac{t_j^3-t_j}{12}\\Big) },\n",
    "$$\n",
    "\n",
    "where $\\mu_U$  and $\\sigma_U$ are the mean and standard deviation of  the $U$ distribution respectively,   $n_s$ is the number of samples in which ties occur, and $t_j$ is the number of observations tied for a given rank in sample $j$. In the absence of ties $t =0$. \n",
    "\n",
    "The corresponding test statistic is given by\n",
    "\n",
    "$$\n",
    "z = \\frac{U -\\mu_U}{\\sigma_U},\n",
    "$$\n",
    "\n",
    "where $z\\sim N(0,1)$. In the normal approximation, the computation of $U$ can be done by either $U_1$ or $U_2$,  because $|z|$ is the same whether  $U_1$ or $U_2$ is used in computing $U$.\n",
    "\n",
    "The p-value  is calculated from the standard normal distribution under $H_0$, given by\n",
    "\n",
    "$$\n",
    "\\text{p-value} = P\\Big(|Z|\\geq |z|\\Big\\vert Z = N(0,1)\\Big)\n",
    "= 2P\\Big(Z< -|z|\\Big\\vert Z = N(0,1)\\Big)\n",
    "= 2\\Phi(-|z|),\n",
    "$$\n",
    "\n",
    "where $\\Phi$ is the CDF of normal distribution."
   ]
  },
  {
   "cell_type": "markdown",
   "id": "9e5758a4",
   "metadata": {},
   "source": [
    "## 4.1. Overall treatment effect\n",
    "In the Mann-Whitney u-test, the overrall $\\text{p-value} = 1.1\\times 10^{-36} \\ll 0.05$. This shows a very strong evidence against the null hypothesis. Therefore, we reject the null the hypothesis, and conclude that the result is statistically significant. "
   ]
  },
  {
   "cell_type": "code",
   "execution_count": 26,
   "id": "2ee127a2",
   "metadata": {
    "tags": []
   },
   "outputs": [
    {
     "name": "stdout",
     "output_type": "stream",
     "text": [
      "Ux statistic overall = 1.40009e+07\n",
      "Uy statistic overall = 1.84208e+07\n",
      "p-value overall = 1.07846e-36\n"
     ]
    }
   ],
   "source": [
    "# compute U-statistic and p-value\n",
    "ux, pval = stat_test.mann_whitney_utest(df_treat.revenue,df_contr.revenue)\n",
    "\n",
    "nx = len(df_treat.revenue) # number of treatment samples\n",
    "ny = len(df_contr.revenue) # number of control samples\n",
    "\n",
    "uy = nx*ny -ux # compute uy\n",
    "\n",
    "print('Ux statistic overall = {0:.6g}'.format(ux))\n",
    "print('Uy statistic overall = {0:.6g}'.format(uy))\n",
    "print('p-value overall = {0:.6g}'.format(pval))"
   ]
  },
  {
   "cell_type": "markdown",
   "id": "071e5164",
   "metadata": {},
   "source": [
    "## 4.2. Segmented treatment effect by phone operating systems\n",
    "\n",
    "Across all phone operating systems, the Mann-Whitney u-test yields a $\\text{p-value} \\ll 0.05$. This shows a very strong evidence against the null hypothesis. Therefore, we reject the null the hypothesis, and conclude that the result is statistically significant. "
   ]
  },
  {
   "cell_type": "markdown",
   "id": "e53cd807",
   "metadata": {},
   "source": [
    "## 4.2.1.  Android treatment effect"
   ]
  },
  {
   "cell_type": "code",
   "execution_count": 27,
   "id": "a982e27f",
   "metadata": {},
   "outputs": [
    {
     "name": "stdout",
     "output_type": "stream",
     "text": [
      "Ux statistic Android OS = 1.37208e+06\n",
      "Uy statistic Android OS = 1.81227e+06\n",
      "p-value Android OS = 4.47263e-13\n"
     ]
    }
   ],
   "source": [
    "# compute U-statistic and p-value\n",
    "ux, pval = stat_test.mann_whitney_utest(df_treat_android.revenue,df_contr_android.revenue)\n",
    "\n",
    "nx = len(df_treat_android.revenue) # number of treatment samples\n",
    "ny = len(df_contr_android.revenue) # number of control samples\n",
    "\n",
    "uy = nx*ny -ux # compute uy\n",
    "\n",
    "print('Ux statistic Android OS = {0:.6g}'.format(ux))\n",
    "print('Uy statistic Android OS = {0:.6g}'.format(uy))\n",
    "print('p-value Android OS = {0:.6g}'.format(pval))"
   ]
  },
  {
   "cell_type": "markdown",
   "id": "32aa013f",
   "metadata": {},
   "source": [
    "## 4.2.2. Windows treatment effect"
   ]
  },
  {
   "cell_type": "code",
   "execution_count": 28,
   "id": "f0e55e82",
   "metadata": {},
   "outputs": [
    {
     "name": "stdout",
     "output_type": "stream",
     "text": [
      "Ux statistic Windows OS = 102832\n",
      "Uy statistic Windows OS = 132822\n",
      "p-value Windows OS = 0.000299532\n"
     ]
    }
   ],
   "source": [
    "# compute U-statistic and p-value\n",
    "ux, pval = stat_test.mann_whitney_utest(df_treat_windows.revenue, df_contr_windows.revenue)\n",
    "\n",
    "nx = len(df_treat_windows.revenue) # number of treatment samples\n",
    "ny = len(df_contr_windows.revenue) # number of control samples\n",
    "\n",
    "uy = nx*ny-ux # compute uy\n",
    "\n",
    "print('Ux statistic Windows OS = {0:.6g}'.format(ux))\n",
    "print('Uy statistic Windows OS = {0:.6g}'.format(uy))\n",
    "print('p-value Windows OS = {0:.6g}'.format(pval))"
   ]
  },
  {
   "cell_type": "markdown",
   "id": "236ad4ef",
   "metadata": {},
   "source": [
    "## 4.2.3. iOS treatment effect"
   ]
  },
  {
   "cell_type": "code",
   "execution_count": 29,
   "id": "3bc605b1",
   "metadata": {},
   "outputs": [
    {
     "name": "stdout",
     "output_type": "stream",
     "text": [
      "Ux statistic iOS = 4.93835e+06\n",
      "Uy statistic iOS = 6.7578e+06\n",
      "p-value iOS = 4.07698e-29\n"
     ]
    }
   ],
   "source": [
    "# compute U-statistic and p-value\n",
    "ux, pval = stat_test.mann_whitney_utest(df_treat_ios.revenue,df_contr_ios.revenue)\n",
    "\n",
    "nx = len(df_treat_ios.revenue) # number of treatment samples\n",
    "ny = len(df_contr_ios.revenue) # number of control samples\n",
    "\n",
    "uy = nx*ny -ux # compute uy\n",
    "print('Ux statistic iOS = {0:.6g}'.format(ux))\n",
    "print('Uy statistic iOS = {0:.6g}'.format(uy))\n",
    "print('p-value iOS = {0:.6g}'.format(pval))"
   ]
  },
  {
   "cell_type": "markdown",
   "id": "ae3b5fc1",
   "metadata": {},
   "source": [
    "# Conclusion"
   ]
  },
  {
   "cell_type": "markdown",
   "id": "a5e8e221",
   "metadata": {},
   "source": [
    "In this project, I examined the problem of testing if a new feature introduced by an e-commerce company through their mobile app will increase revenue.  Through data exploration, I showed that different segmentations of phone operating systems show heterogeneity in the treatment and control groups. Moveover, the revenue is highly skewed to the right, because some customers spent more than others.\n",
    "\n",
    "Three statistical tests were conducted. The parametric t-tests (Student and Welch) did not give enough evidence against the null hypothesis. Therefore, I concluded that the data is not enough to support any conclusion. By looking at different segmentation of the data, I established a statistically significant treatment effect for iOS customers, with $\\text{p-value}=0.012$.\n",
    "\n",
    "From the data exploration, it is evident that the assumptions of the Student's and the Welch's t-tests were not valid, therefore the Mann-Whitney u-test was performed. The Mann-Whitney u-test shows a very strong evidence against the null hypothesis both overall and by segmentation. Therefore, the null hypothesis was rejected and I conlcuded that there is a statistically significant treatment effect. Hence, the new feature shows improvement in revenue and the e-commerce company can go ahead and lunch it to all their customers."
   ]
  },
  {
   "cell_type": "code",
   "execution_count": null,
   "id": "406ab232",
   "metadata": {},
   "outputs": [],
   "source": []
  }
 ],
 "metadata": {
  "interpreter": {
   "hash": "aee8b7b246df8f9039afb4144a1f6fd8d2ca17a180786b69acc140d282b71a49"
  },
  "kernelspec": {
   "display_name": "Python 3",
   "language": "python",
   "name": "python3"
  },
  "language_info": {
   "codemirror_mode": {
    "name": "ipython",
    "version": 3
   },
   "file_extension": ".py",
   "mimetype": "text/x-python",
   "name": "python",
   "nbconvert_exporter": "python",
   "pygments_lexer": "ipython3",
   "version": "3.9.4"
  }
 },
 "nbformat": 4,
 "nbformat_minor": 5
}
